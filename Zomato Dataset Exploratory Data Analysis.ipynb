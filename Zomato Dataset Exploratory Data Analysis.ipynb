{
 "cells": [
  {
   "cell_type": "markdown",
   "id": "656e1482-443d-4678-8cb4-ebb35b1d07b4",
   "metadata": {},
   "source": [
    "# Zomato Dataset Exploratory Data Analysis"
   ]
  },
  {
   "cell_type": "code",
   "execution_count": null,
   "id": "2a4da1ae-7bbf-4e24-a01e-dc2b86084958",
   "metadata": {},
   "outputs": [],
   "source": [
    "import pandas as pd\n",
    "import numpy as np\n",
    "import matplotlib.pyplot as plt\n",
    "import seaborn as sns"
   ]
  },
  {
   "cell_type": "code",
   "execution_count": null,
   "id": "c6392185-f4b7-4d3d-8482-aeda1c2712e9",
   "metadata": {},
   "outputs": [],
   "source": [
    "df = pd.read_csv('Zomatodataset\\zomato.csv', encoding='latin-1')"
   ]
  },
  {
   "cell_type": "code",
   "execution_count": null,
   "id": "a0ba834d-5700-4f0e-8699-143906928e7f",
   "metadata": {
    "tags": []
   },
   "outputs": [],
   "source": [
    "df.head(10)"
   ]
  },
  {
   "cell_type": "code",
   "execution_count": null,
   "id": "df9648f2-a0bc-4c21-81ec-72b1224ead59",
   "metadata": {},
   "outputs": [],
   "source": [
    "df.columns # or [feature for feature in df.columns]"
   ]
  },
  {
   "cell_type": "code",
   "execution_count": null,
   "id": "62f8d90b-affc-459a-9f19-1bea8553fcd0",
   "metadata": {},
   "outputs": [],
   "source": [
    "df.info()"
   ]
  },
  {
   "cell_type": "code",
   "execution_count": null,
   "id": "9ef9a4e4-96dd-4d8c-a20f-883c3ffc291d",
   "metadata": {},
   "outputs": [],
   "source": [
    "df.describe()   # only integer features"
   ]
  },
  {
   "cell_type": "markdown",
   "id": "b4c48d5e-aaa5-4bbb-8fc7-61037e57bb7d",
   "metadata": {},
   "source": [
    "# DATA ANALYSIS STEPS\n",
    "1. Missing Values - feature engineering\n",
    "2. Explore the numerical variables\n",
    "3. Explore categorical variables\n",
    "4. Finding Relations between features"
   ]
  },
  {
   "cell_type": "markdown",
   "id": "d0a7f8f0-a36a-4c31-94b9-184f195f798e",
   "metadata": {},
   "source": [
    "## MISSING VALUES"
   ]
  },
  {
   "cell_type": "code",
   "execution_count": null,
   "id": "8cf89c68-1af6-44fa-a460-ec71d41ce1bb",
   "metadata": {},
   "outputs": [],
   "source": [
    "df.shape"
   ]
  },
  {
   "cell_type": "code",
   "execution_count": null,
   "id": "ceac69ce-8123-41f4-a01a-90747c1dae1b",
   "metadata": {},
   "outputs": [],
   "source": [
    "df.isnull().sum() # how many null values under each columns"
   ]
  },
  {
   "cell_type": "code",
   "execution_count": null,
   "id": "8d80b69b-d713-4d98-acb8-6561b147f54f",
   "metadata": {},
   "outputs": [],
   "source": [
    "# we will print those features which have null values\n",
    "[feature for feature in df.columns if df[feature].isnull().sum()> 0]"
   ]
  },
  {
   "cell_type": "code",
   "execution_count": null,
   "id": "1c13c9ff-0c61-4e58-b2aa-cb2cdf01d7c5",
   "metadata": {},
   "outputs": [],
   "source": [
    "sns.heatmap(df.isnull(), yticklabels = False, cbar = True, cmap = 'viridis')"
   ]
  },
  {
   "cell_type": "code",
   "execution_count": null,
   "id": "5d038488-cef6-4caa-88de-1b71684abe54",
   "metadata": {},
   "outputs": [],
   "source": [
    "plt.figure(figsize = (12,6)) # problem with (8,8)\n",
    "sns.heatmap(df.isnull(), yticklabels = False, cbar = True, cmap = 'viridis') # press shift + tab for documentation"
   ]
  },
  {
   "cell_type": "code",
   "execution_count": null,
   "id": "94a423d3-0100-443a-86f5-536965b8a18d",
   "metadata": {},
   "outputs": [],
   "source": [
    "df_country = pd.read_excel('Zomatodataset\\Country-Code.xlsx')\n",
    "df_country.head()"
   ]
  },
  {
   "cell_type": "code",
   "execution_count": null,
   "id": "f392690b-64c9-44be-ab8d-a8fa247ea307",
   "metadata": {},
   "outputs": [],
   "source": [
    "df.columns"
   ]
  },
  {
   "cell_type": "code",
   "execution_count": null,
   "id": "3129fa95-3c87-4615-a51b-330fad7fc167",
   "metadata": {
    "tags": []
   },
   "outputs": [],
   "source": [
    "# now we merge df_country with df on 'Country Code' by left outer join\n",
    "final_df = pd.merge(df, df_country, on = 'Country Code', how = 'left')"
   ]
  },
  {
   "cell_type": "code",
   "execution_count": null,
   "id": "1ac8facf-3992-421d-aad6-2bc623b03554",
   "metadata": {},
   "outputs": [],
   "source": [
    "final_df.columns"
   ]
  },
  {
   "cell_type": "code",
   "execution_count": null,
   "id": "04011292-67da-4fb6-8256-fd535d11f726",
   "metadata": {
    "tags": []
   },
   "outputs": [],
   "source": [
    "final_df.head(1)"
   ]
  },
  {
   "cell_type": "code",
   "execution_count": null,
   "id": "b7507f67-2db3-4246-9136-9ee78f567ffe",
   "metadata": {},
   "outputs": [],
   "source": [
    "final_df.dtypes"
   ]
  },
  {
   "cell_type": "code",
   "execution_count": null,
   "id": "4c18817b-d612-46a1-b6b6-f9af7259f13a",
   "metadata": {},
   "outputs": [],
   "source": [
    "final_df.info()"
   ]
  },
  {
   "cell_type": "code",
   "execution_count": null,
   "id": "ad4a2b90-7708-4940-a993-165c9b1936b8",
   "metadata": {},
   "outputs": [],
   "source": [
    "final_df.columns"
   ]
  },
  {
   "cell_type": "code",
   "execution_count": null,
   "id": "0f29bbab-0c68-48b3-847b-2a6b75235a42",
   "metadata": {},
   "outputs": [],
   "source": [
    "final_df.Country.value_counts()"
   ]
  },
  {
   "cell_type": "code",
   "execution_count": null,
   "id": "d8f24592-35dc-4062-a3b7-a924621f61a9",
   "metadata": {},
   "outputs": [],
   "source": [
    "final_df.isnull().sum()"
   ]
  },
  {
   "cell_type": "code",
   "execution_count": null,
   "id": "e8882a14-b961-4557-bb9e-91ddb3e7120a",
   "metadata": {},
   "outputs": [],
   "source": [
    "final_df.shape"
   ]
  },
  {
   "cell_type": "code",
   "execution_count": null,
   "id": "0101536d-e569-4800-9113-143fd700c509",
   "metadata": {},
   "outputs": [],
   "source": [
    "final_df.Country.value_counts()"
   ]
  },
  {
   "cell_type": "code",
   "execution_count": null,
   "id": "851922a0-e11a-4c19-af1f-6b5acba73351",
   "metadata": {},
   "outputs": [],
   "source": [
    "final_df.Country.value_counts().index"
   ]
  },
  {
   "cell_type": "code",
   "execution_count": null,
   "id": "1d9d7bc4-6c8c-48c8-ae7b-01cd52d241dc",
   "metadata": {},
   "outputs": [],
   "source": [
    "country_names = final_df.Country.value_counts().index"
   ]
  },
  {
   "cell_type": "code",
   "execution_count": null,
   "id": "7950c678-f4c3-4681-b2aa-e8932316b164",
   "metadata": {},
   "outputs": [],
   "source": [
    "country_values = final_df.Country.value_counts().values"
   ]
  },
  {
   "cell_type": "code",
   "execution_count": null,
   "id": "a7882215-3763-4696-bffc-ddb15cc3980e",
   "metadata": {
    "tags": []
   },
   "outputs": [],
   "source": [
    "# pie chart\n",
    "plt.figure(figsize=(25,15))\n",
    "plt.pie(country_values[:5], labels=country_names[:5], autopct='%1.2f%%')"
   ]
  },
  {
   "cell_type": "markdown",
   "id": "1884de39-6299-4085-b184-7b39c1f68613",
   "metadata": {},
   "source": [
    "Observation: Zomato maximum records or transaction are from \n",
    "1. India \n",
    "2. USA\n",
    "3. UK"
   ]
  },
  {
   "cell_type": "code",
   "execution_count": null,
   "id": "c7746ac6-28b5-434f-b6d8-a71a114814e4",
   "metadata": {},
   "outputs": [],
   "source": [
    "final_df.columns"
   ]
  },
  {
   "cell_type": "code",
   "execution_count": null,
   "id": "f0fb7843-8600-463a-90d3-092e0446f144",
   "metadata": {},
   "outputs": [],
   "source": [
    "ratings = final_df.groupby(['Aggregate rating','Rating color','Rating text']).size().reset_index().rename(columns={0:'Rating Count'})"
   ]
  },
  {
   "cell_type": "code",
   "execution_count": null,
   "id": "e5574af8-36d5-4d58-982e-235235d397a2",
   "metadata": {
    "tags": []
   },
   "outputs": [],
   "source": [
    "ratings.head()"
   ]
  },
  {
   "cell_type": "markdown",
   "id": "a76b5a05-1f72-483e-a7da-2b5242e5f0ed",
   "metadata": {},
   "source": [
    "## Observation\n",
    "1. When Rating is from 4.5 to 4.9 -> Excellent\n",
    "2. ................... 4.0 to 4.4 -> very good\n",
    "3. ................... 3.5 to 3.9 -> good\n",
    "4. ................... 3.0 to 3.4 -> average\n",
    "5. ................... 2.5 to 2.9 -> average\n",
    "6. ................... 2.0 to 2.4 -> poor"
   ]
  },
  {
   "cell_type": "code",
   "execution_count": null,
   "id": "fbe57314-4ac7-473a-bd05-069e4eea8549",
   "metadata": {
    "tags": []
   },
   "outputs": [],
   "source": [
    "plt.figure(figsize=(15,5))\n",
    "sns.barplot(x=\"Aggregate rating\", y=\"Rating Count\", data=ratings)"
   ]
  },
  {
   "cell_type": "code",
   "execution_count": null,
   "id": "4c61c3ca-a694-4db5-8fd9-1b81a7334641",
   "metadata": {},
   "outputs": [],
   "source": [
    "plt.figure(figsize=(15,5))\n",
    "sns.barplot(x=\"Aggregate rating\", y=\"Rating Count\", hue=\"Rating color\", data=ratings, palette=['Blue','Red','Orange','Yellow','Green','Green'])"
   ]
  },
  {
   "cell_type": "markdown",
   "id": "fb2a4065-ef51-4660-a415-c3ed8152df31",
   "metadata": {},
   "source": [
    "## Observations :\n",
    "1. Not rated count is highest.\n",
    "2. Maximum number of ratings are between 2.7 and 4.0"
   ]
  },
  {
   "cell_type": "code",
   "execution_count": null,
   "id": "d565ce09-b1dd-4bfb-92b4-aceda58a5327",
   "metadata": {},
   "outputs": [],
   "source": [
    "# to plot the count plot of all the rating colors frequency\n",
    "plt.figure(figsize=(10,5))\n",
    "sns.countplot(x=\"Rating color\", data=ratings, palette =['Blue','Red','Orange','Yellow','Green','Green'])"
   ]
  },
  {
   "cell_type": "markdown",
   "id": "04f96735-b013-472b-9bab-e81becf24a48",
   "metadata": {},
   "source": [
    "### Find the country names that gave 0 rating ?\n",
    "### we can use rating color to filter or Aggregate rating == 0.0 to check"
   ]
  },
  {
   "cell_type": "code",
   "execution_count": null,
   "id": "57543c3d-c01f-45b4-8abf-50f4c43bd7c2",
   "metadata": {},
   "outputs": [],
   "source": [
    "final_df[final_df['Rating color'] == 'White'].groupby('Country').size().reset_index()"
   ]
  },
  {
   "cell_type": "code",
   "execution_count": null,
   "id": "738a2908-9916-493c-a9de-7ce052de7ca6",
   "metadata": {},
   "outputs": [],
   "source": [
    "# final_df.groupby(['Aggregate rating', 'Country']).size().reset_index().head(5)\n",
    "final_df[final_df['Aggregate rating'] == 0.0].groupby('Country').size().reset_index()"
   ]
  },
  {
   "cell_type": "markdown",
   "id": "de30f9d2-e20f-468a-aedb-d293145a6d88",
   "metadata": {},
   "source": [
    "Observations : Max no of 0 ratings are from Indian customers"
   ]
  },
  {
   "cell_type": "markdown",
   "id": "a3495fbe-82a5-4fa1-8fa5-e727004e3d5a",
   "metadata": {},
   "source": [
    "### Find out which currency is used by which country ?"
   ]
  },
  {
   "cell_type": "code",
   "execution_count": null,
   "id": "dfff9eb7-826e-4d0f-8d8f-f21413f3ea9e",
   "metadata": {},
   "outputs": [],
   "source": [
    "final_df.columns"
   ]
  },
  {
   "cell_type": "code",
   "execution_count": null,
   "id": "9a04fce7-e333-4855-be76-6da788844cce",
   "metadata": {},
   "outputs": [],
   "source": [
    "final_df.groupby(['Country','Currency']).size().reset_index()"
   ]
  },
  {
   "cell_type": "markdown",
   "id": "6918570a-0571-4fae-8148-d9607731aa7d",
   "metadata": {},
   "source": [
    "### Which countries do have online deliveries option?"
   ]
  },
  {
   "cell_type": "code",
   "execution_count": null,
   "id": "82304f21-738b-4634-8597-4a2188f15546",
   "metadata": {},
   "outputs": [],
   "source": [
    "final_df.columns"
   ]
  },
  {
   "cell_type": "code",
   "execution_count": null,
   "id": "9e78d644-c930-4ca5-bbf1-b83b285cd599",
   "metadata": {},
   "outputs": [],
   "source": [
    "final_df[final_df['Has Online delivery'] == \"Yes\"].Country.value_counts()"
   ]
  },
  {
   "cell_type": "code",
   "execution_count": null,
   "id": "ef77c15e-db6c-45ef-8cfb-5e30a1a25df9",
   "metadata": {},
   "outputs": [],
   "source": [
    "final_df[['Has Online delivery','Country']].groupby(['Has Online delivery','Country']).size().reset_index()"
   ]
  },
  {
   "cell_type": "markdown",
   "id": "67570a83-37ce-4bd1-96c8-f9c2652c1fde",
   "metadata": {},
   "source": [
    "### Observations : Online deliveries are available in India and UAE"
   ]
  },
  {
   "cell_type": "markdown",
   "id": "894c4819-78fa-4e03-aba0-8c940eb8dc8b",
   "metadata": {},
   "source": [
    "### Create a pie chart for top 5 cities distribution."
   ]
  },
  {
   "cell_type": "code",
   "execution_count": null,
   "id": "75bdbf16-c347-4198-aec8-384e8db69e68",
   "metadata": {},
   "outputs": [],
   "source": [
    "city_values = final_df.City.value_counts().values\n",
    "city_labels = final_df.City.value_counts().index"
   ]
  },
  {
   "cell_type": "code",
   "execution_count": null,
   "id": "43576d18-d11a-4ad6-9534-bba7f4d0d374",
   "metadata": {},
   "outputs": [],
   "source": [
    "plt.figure(figsize=(15,15))\n",
    "plt.pie(city_values[:5], labels=city_labels[:5], autopct =\"%1.2f%%\")"
   ]
  },
  {
   "cell_type": "markdown",
   "id": "c71eb185-d8b3-469f-870d-06015774dc74",
   "metadata": {},
   "source": [
    "### Find the top 10 cuisines"
   ]
  },
  {
   "cell_type": "code",
   "execution_count": null,
   "id": "150ac0aa-72ed-4532-8033-907869d15b87",
   "metadata": {},
   "outputs": [],
   "source": []
  }
 ],
 "metadata": {
  "kernelspec": {
   "display_name": "Python 3 (ipykernel)",
   "language": "python",
   "name": "python3"
  },
  "language_info": {
   "codemirror_mode": {
    "name": "ipython",
    "version": 3
   },
   "file_extension": ".py",
   "mimetype": "text/x-python",
   "name": "python",
   "nbconvert_exporter": "python",
   "pygments_lexer": "ipython3",
   "version": "3.10.4"
  }
 },
 "nbformat": 4,
 "nbformat_minor": 5
}
