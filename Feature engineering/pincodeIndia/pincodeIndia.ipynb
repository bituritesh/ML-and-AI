{
 "cells": [
  {
   "cell_type": "code",
   "execution_count": 1,
   "id": "e85f2ae3-b1cd-45c7-82c1-7e83c070a53e",
   "metadata": {},
   "outputs": [],
   "source": [
    "import pandas as pd\n",
    "import numpy as np\n",
    "import matplotlib.pyplot as plt\n",
    "import seaborn as sns\n",
    "\n",
    "%matplotlib inline "
   ]
  },
  {
   "cell_type": "code",
   "execution_count": 2,
   "id": "c23a7f84-89d2-4f9e-a59d-9a39497d916e",
   "metadata": {},
   "outputs": [
    {
     "data": {
      "text/html": [
       "<div>\n",
       "<style scoped>\n",
       "    .dataframe tbody tr th:only-of-type {\n",
       "        vertical-align: middle;\n",
       "    }\n",
       "\n",
       "    .dataframe tbody tr th {\n",
       "        vertical-align: top;\n",
       "    }\n",
       "\n",
       "    .dataframe thead th {\n",
       "        text-align: right;\n",
       "    }\n",
       "</style>\n",
       "<table border=\"1\" class=\"dataframe\">\n",
       "  <thead>\n",
       "    <tr style=\"text-align: right;\">\n",
       "      <th></th>\n",
       "      <th>pincode</th>\n",
       "      <th>regionname</th>\n",
       "      <th>statename</th>\n",
       "    </tr>\n",
       "  </thead>\n",
       "  <tbody>\n",
       "    <tr>\n",
       "      <th>0</th>\n",
       "      <td>744112</td>\n",
       "      <td>Calcutta HQ</td>\n",
       "      <td>ANDAMAN &amp; NICOBAR ISLANDS</td>\n",
       "    </tr>\n",
       "    <tr>\n",
       "      <th>1</th>\n",
       "      <td>744102</td>\n",
       "      <td>Calcutta HQ</td>\n",
       "      <td>ANDAMAN &amp; NICOBAR ISLANDS</td>\n",
       "    </tr>\n",
       "    <tr>\n",
       "      <th>2</th>\n",
       "      <td>744102</td>\n",
       "      <td>Calcutta HQ</td>\n",
       "      <td>ANDAMAN &amp; NICOBAR ISLANDS</td>\n",
       "    </tr>\n",
       "    <tr>\n",
       "      <th>3</th>\n",
       "      <td>744101</td>\n",
       "      <td>Calcutta HQ</td>\n",
       "      <td>ANDAMAN &amp; NICOBAR ISLANDS</td>\n",
       "    </tr>\n",
       "    <tr>\n",
       "      <th>4</th>\n",
       "      <td>744103</td>\n",
       "      <td>Calcutta HQ</td>\n",
       "      <td>ANDAMAN &amp; NICOBAR ISLANDS</td>\n",
       "    </tr>\n",
       "  </tbody>\n",
       "</table>\n",
       "</div>"
      ],
      "text/plain": [
       "   pincode   regionname                  statename\n",
       "0   744112  Calcutta HQ  ANDAMAN & NICOBAR ISLANDS\n",
       "1   744102  Calcutta HQ  ANDAMAN & NICOBAR ISLANDS\n",
       "2   744102  Calcutta HQ  ANDAMAN & NICOBAR ISLANDS\n",
       "3   744101  Calcutta HQ  ANDAMAN & NICOBAR ISLANDS\n",
       "4   744103  Calcutta HQ  ANDAMAN & NICOBAR ISLANDS"
      ]
     },
     "execution_count": 2,
     "metadata": {},
     "output_type": "execute_result"
    }
   ],
   "source": [
    "df = pd.read_csv('6176ee09-3d56-4a3b-8115-21841576b2f6.csv', usecols=['statename','pincode','regionname'])\n",
    "df.head()"
   ]
  },
  {
   "cell_type": "code",
   "execution_count": 3,
   "id": "2d907b65-a3f4-474e-9366-0e0997684e6b",
   "metadata": {},
   "outputs": [
    {
     "data": {
      "text/plain": [
       "(155570, 3)"
      ]
     },
     "execution_count": 3,
     "metadata": {},
     "output_type": "execute_result"
    }
   ],
   "source": [
    "df.shape"
   ]
  },
  {
   "cell_type": "code",
   "execution_count": 4,
   "id": "f5fbcbf9-f726-47b7-84e6-74d3fc8d3c8e",
   "metadata": {},
   "outputs": [
    {
     "data": {
      "text/plain": [
       "UTTAR PRADESH                17712\n",
       "MAHARASHTRA                  12628\n",
       "TAMIL NADU                   11875\n",
       "ANDHRA PRADESH               10493\n",
       "RAJASTHAN                    10333\n",
       "KARNATAKA                     9689\n",
       "BIHAR                         9114\n",
       "GUJARAT                       8917\n",
       "WEST BENGAL                   8819\n",
       "MADHYA PRADESH                8324\n",
       "ODISHA                        8224\n",
       "TELANGANA                     5838\n",
       "KERALA                        5059\n",
       "ASSAM                         4023\n",
       "PUNJAB                        3818\n",
       "JHARKHAND                     3275\n",
       "CHATTISGARH                   3170\n",
       "HIMACHAL PRADESH              2791\n",
       "UTTARAKHAND                   2729\n",
       "HARYANA                       2698\n",
       "JAMMU & KASHMIR               1731\n",
       "MANIPUR                        712\n",
       "TRIPURA                        712\n",
       "DELHI                          562\n",
       "MEGHALAYA                      501\n",
       "MIZORAM                        402\n",
       "NAGALAND                       330\n",
       "ARUNACHAL PRADESH              302\n",
       "GOA                            257\n",
       "SIKKIM                         210\n",
       "ANDAMAN & NICOBAR ISLANDS      102\n",
       "PONDICHERRY                     95\n",
       "CHANDIGARH                      56\n",
       "DADRA & NAGAR HAVELI            39\n",
       "DAMAN & DIU                     20\n",
       "LAKSHADWEEP                     10\n",
       "Name: statename, dtype: int64"
      ]
     },
     "execution_count": 4,
     "metadata": {},
     "output_type": "execute_result"
    }
   ],
   "source": [
    "df['statename'].value_counts()"
   ]
  },
  {
   "cell_type": "code",
   "execution_count": null,
   "id": "205258d2-210e-4bf8-bb27-5dcb58052d72",
   "metadata": {},
   "outputs": [],
   "source": []
  },
  {
   "cell_type": "code",
   "execution_count": 5,
   "id": "c6995332-4e04-48d9-882b-ccfd0d71212e",
   "metadata": {
    "tags": []
   },
   "outputs": [],
   "source": [
    "bihar_df = df[df['statename'] == 'BIHAR']"
   ]
  },
  {
   "cell_type": "code",
   "execution_count": 6,
   "id": "80810c2b-ca23-4059-94d9-140c2c2d9066",
   "metadata": {},
   "outputs": [
    {
     "data": {
      "text/html": [
       "<div>\n",
       "<style scoped>\n",
       "    .dataframe tbody tr th:only-of-type {\n",
       "        vertical-align: middle;\n",
       "    }\n",
       "\n",
       "    .dataframe tbody tr th {\n",
       "        vertical-align: top;\n",
       "    }\n",
       "\n",
       "    .dataframe thead th {\n",
       "        text-align: right;\n",
       "    }\n",
       "</style>\n",
       "<table border=\"1\" class=\"dataframe\">\n",
       "  <thead>\n",
       "    <tr style=\"text-align: right;\">\n",
       "      <th></th>\n",
       "      <th>pincode</th>\n",
       "      <th>regionname</th>\n",
       "      <th>statename</th>\n",
       "    </tr>\n",
       "  </thead>\n",
       "  <tbody>\n",
       "    <tr>\n",
       "      <th>14920</th>\n",
       "      <td>854334</td>\n",
       "      <td>BhagalPur</td>\n",
       "      <td>BIHAR</td>\n",
       "    </tr>\n",
       "    <tr>\n",
       "      <th>14921</th>\n",
       "      <td>854334</td>\n",
       "      <td>BhagalPur</td>\n",
       "      <td>BIHAR</td>\n",
       "    </tr>\n",
       "    <tr>\n",
       "      <th>14922</th>\n",
       "      <td>854334</td>\n",
       "      <td>BhagalPur</td>\n",
       "      <td>BIHAR</td>\n",
       "    </tr>\n",
       "    <tr>\n",
       "      <th>14923</th>\n",
       "      <td>854334</td>\n",
       "      <td>BhagalPur</td>\n",
       "      <td>BIHAR</td>\n",
       "    </tr>\n",
       "    <tr>\n",
       "      <th>14924</th>\n",
       "      <td>854334</td>\n",
       "      <td>BhagalPur</td>\n",
       "      <td>BIHAR</td>\n",
       "    </tr>\n",
       "    <tr>\n",
       "      <th>...</th>\n",
       "      <td>...</td>\n",
       "      <td>...</td>\n",
       "      <td>...</td>\n",
       "    </tr>\n",
       "    <tr>\n",
       "      <th>24029</th>\n",
       "      <td>801109</td>\n",
       "      <td>Patna HQ</td>\n",
       "      <td>BIHAR</td>\n",
       "    </tr>\n",
       "    <tr>\n",
       "      <th>24030</th>\n",
       "      <td>801109</td>\n",
       "      <td>Patna HQ</td>\n",
       "      <td>BIHAR</td>\n",
       "    </tr>\n",
       "    <tr>\n",
       "      <th>24031</th>\n",
       "      <td>801109</td>\n",
       "      <td>Patna HQ</td>\n",
       "      <td>BIHAR</td>\n",
       "    </tr>\n",
       "    <tr>\n",
       "      <th>24032</th>\n",
       "      <td>801109</td>\n",
       "      <td>Patna HQ</td>\n",
       "      <td>BIHAR</td>\n",
       "    </tr>\n",
       "    <tr>\n",
       "      <th>24033</th>\n",
       "      <td>801109</td>\n",
       "      <td>Patna HQ</td>\n",
       "      <td>BIHAR</td>\n",
       "    </tr>\n",
       "  </tbody>\n",
       "</table>\n",
       "<p>9114 rows × 3 columns</p>\n",
       "</div>"
      ],
      "text/plain": [
       "       pincode regionname statename\n",
       "14920   854334  BhagalPur     BIHAR\n",
       "14921   854334  BhagalPur     BIHAR\n",
       "14922   854334  BhagalPur     BIHAR\n",
       "14923   854334  BhagalPur     BIHAR\n",
       "14924   854334  BhagalPur     BIHAR\n",
       "...        ...        ...       ...\n",
       "24029   801109   Patna HQ     BIHAR\n",
       "24030   801109   Patna HQ     BIHAR\n",
       "24031   801109   Patna HQ     BIHAR\n",
       "24032   801109   Patna HQ     BIHAR\n",
       "24033   801109   Patna HQ     BIHAR\n",
       "\n",
       "[9114 rows x 3 columns]"
      ]
     },
     "execution_count": 6,
     "metadata": {},
     "output_type": "execute_result"
    }
   ],
   "source": [
    "bihar_df"
   ]
  },
  {
   "cell_type": "code",
   "execution_count": 7,
   "id": "a7c04ea5-154d-46f3-987f-20140a73c8d9",
   "metadata": {},
   "outputs": [
    {
     "data": {
      "text/plain": [
       "BhagalPur      3568\n",
       "Muzaffarpur    3198\n",
       "Patna HQ       2348\n",
       "Name: regionname, dtype: int64"
      ]
     },
     "execution_count": 7,
     "metadata": {},
     "output_type": "execute_result"
    }
   ],
   "source": [
    "bihar_df['regionname'].value_counts()"
   ]
  },
  {
   "cell_type": "code",
   "execution_count": null,
   "id": "57646701-a242-4553-b5da-1508cd145e26",
   "metadata": {},
   "outputs": [],
   "source": []
  }
 ],
 "metadata": {
  "kernelspec": {
   "display_name": "Python 3 (ipykernel)",
   "language": "python",
   "name": "python3"
  },
  "language_info": {
   "codemirror_mode": {
    "name": "ipython",
    "version": 3
   },
   "file_extension": ".py",
   "mimetype": "text/x-python",
   "name": "python",
   "nbconvert_exporter": "python",
   "pygments_lexer": "ipython3",
   "version": "3.10.4"
  }
 },
 "nbformat": 4,
 "nbformat_minor": 5
}
