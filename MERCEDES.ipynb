{
 "cells": [
  {
   "cell_type": "markdown",
   "id": "62a48883-7ff8-481c-b683-130227873343",
   "metadata": {},
   "source": [
    "### ONE HOT ENCODING - Variables With Many Categories"
   ]
  },
  {
   "cell_type": "code",
   "execution_count": 1,
   "id": "a7135d36-7de2-4703-8ab0-505afc30b568",
   "metadata": {},
   "outputs": [],
   "source": [
    "import pandas as pd\n",
    "import numpy as np"
   ]
  },
  {
   "cell_type": "code",
   "execution_count": 2,
   "id": "9e910941-acf1-4a8c-8bf4-33079bc32b17",
   "metadata": {},
   "outputs": [
    {
     "data": {
      "text/html": [
       "<div>\n",
       "<style scoped>\n",
       "    .dataframe tbody tr th:only-of-type {\n",
       "        vertical-align: middle;\n",
       "    }\n",
       "\n",
       "    .dataframe tbody tr th {\n",
       "        vertical-align: top;\n",
       "    }\n",
       "\n",
       "    .dataframe thead th {\n",
       "        text-align: right;\n",
       "    }\n",
       "</style>\n",
       "<table border=\"1\" class=\"dataframe\">\n",
       "  <thead>\n",
       "    <tr style=\"text-align: right;\">\n",
       "      <th></th>\n",
       "      <th>X1</th>\n",
       "      <th>X2</th>\n",
       "      <th>X3</th>\n",
       "      <th>X4</th>\n",
       "      <th>X5</th>\n",
       "      <th>X6</th>\n",
       "    </tr>\n",
       "  </thead>\n",
       "  <tbody>\n",
       "    <tr>\n",
       "      <th>0</th>\n",
       "      <td>v</td>\n",
       "      <td>at</td>\n",
       "      <td>a</td>\n",
       "      <td>d</td>\n",
       "      <td>u</td>\n",
       "      <td>j</td>\n",
       "    </tr>\n",
       "    <tr>\n",
       "      <th>1</th>\n",
       "      <td>t</td>\n",
       "      <td>av</td>\n",
       "      <td>e</td>\n",
       "      <td>d</td>\n",
       "      <td>y</td>\n",
       "      <td>l</td>\n",
       "    </tr>\n",
       "    <tr>\n",
       "      <th>2</th>\n",
       "      <td>w</td>\n",
       "      <td>n</td>\n",
       "      <td>c</td>\n",
       "      <td>d</td>\n",
       "      <td>x</td>\n",
       "      <td>j</td>\n",
       "    </tr>\n",
       "    <tr>\n",
       "      <th>3</th>\n",
       "      <td>t</td>\n",
       "      <td>n</td>\n",
       "      <td>f</td>\n",
       "      <td>d</td>\n",
       "      <td>x</td>\n",
       "      <td>l</td>\n",
       "    </tr>\n",
       "    <tr>\n",
       "      <th>4</th>\n",
       "      <td>v</td>\n",
       "      <td>n</td>\n",
       "      <td>f</td>\n",
       "      <td>d</td>\n",
       "      <td>h</td>\n",
       "      <td>d</td>\n",
       "    </tr>\n",
       "  </tbody>\n",
       "</table>\n",
       "</div>"
      ],
      "text/plain": [
       "  X1  X2 X3 X4 X5 X6\n",
       "0  v  at  a  d  u  j\n",
       "1  t  av  e  d  y  l\n",
       "2  w   n  c  d  x  j\n",
       "3  t   n  f  d  x  l\n",
       "4  v   n  f  d  h  d"
      ]
     },
     "execution_count": 2,
     "metadata": {},
     "output_type": "execute_result"
    }
   ],
   "source": [
    "data = pd.read_csv('train.csv/train.csv', usecols=['X1','X2','X3','X4','X5','X6'])\n",
    "data.head()"
   ]
  },
  {
   "cell_type": "code",
   "execution_count": 3,
   "id": "04d0f1e4-dc4c-4634-8912-f37dcffd7ea1",
   "metadata": {},
   "outputs": [
    {
     "data": {
      "text/plain": [
       "Index(['X1', 'X2', 'X3', 'X4', 'X5', 'X6'], dtype='object')"
      ]
     },
     "execution_count": 3,
     "metadata": {},
     "output_type": "execute_result"
    }
   ],
   "source": [
    "data.columns"
   ]
  },
  {
   "cell_type": "code",
   "execution_count": 4,
   "id": "1ef786e8-1e3d-4254-979a-179e5db8d436",
   "metadata": {},
   "outputs": [
    {
     "name": "stdout",
     "output_type": "stream",
     "text": [
      "X1 :  27 labels\n",
      "X2 :  44 labels\n",
      "X3 :  7 labels\n",
      "X4 :  4 labels\n",
      "X5 :  29 labels\n",
      "X6 :  12 labels\n"
     ]
    }
   ],
   "source": [
    "# how many categories/ labels each variables has\n",
    "for col in data.columns:\n",
    "    print(col,': ',str(len(data[col].unique())) +' labels')"
   ]
  },
  {
   "cell_type": "code",
   "execution_count": 5,
   "id": "8c2ce6a6-b4ea-4a9d-baea-d385a427fd1a",
   "metadata": {},
   "outputs": [
    {
     "data": {
      "text/plain": [
       "(4209, 117)"
      ]
     },
     "execution_count": 5,
     "metadata": {},
     "output_type": "execute_result"
    }
   ],
   "source": [
    "# lets see how many columns wwe will btain after 1 hot encoding these variables\n",
    "pd.get_dummies(data, drop_first=True).shape"
   ]
  },
  {
   "cell_type": "markdown",
   "id": "bd1a97f4-dafa-4153-96fc-00d20a8c9e5e",
   "metadata": {},
   "source": [
    "So to handle such a big categorical values we will use the top frequent categories for 1 hot encoding and the remaining ones will be in another categories - this works only when u have a imbalanced categories in ur features\n",
    "But when in a test case the frequency of the categories are the same we cant use this approach."
   ]
  },
  {
   "cell_type": "code",
   "execution_count": 6,
   "id": "0d036ee7-3820-4285-b63a-2f3d7fe26a81",
   "metadata": {},
   "outputs": [
    {
     "data": {
      "text/plain": [
       "as    1659\n",
       "ae     496\n",
       "ai     415\n",
       "m      367\n",
       "ak     265\n",
       "r      153\n",
       "n      137\n",
       "s       94\n",
       "f       87\n",
       "e       81\n",
       "aq      63\n",
       "ay      54\n",
       "a       47\n",
       "t       29\n",
       "k       25\n",
       "i       25\n",
       "b       21\n",
       "ao      20\n",
       "ag      19\n",
       "z       19\n",
       "Name: X2, dtype: int64"
      ]
     },
     "execution_count": 6,
     "metadata": {},
     "output_type": "execute_result"
    }
   ],
   "source": [
    "data['X2'].value_counts().sort_values(ascending=False).head(20)"
   ]
  },
  {
   "cell_type": "code",
   "execution_count": 7,
   "id": "58d8450c-ecd1-43ad-a06b-303ac489f200",
   "metadata": {},
   "outputs": [
    {
     "data": {
      "text/plain": [
       "['as',\n",
       " 'ae',\n",
       " 'ai',\n",
       " 'm',\n",
       " 'ak',\n",
       " 'r',\n",
       " 'n',\n",
       " 's',\n",
       " 'f',\n",
       " 'e',\n",
       " 'aq',\n",
       " 'ay',\n",
       " 'a',\n",
       " 't',\n",
       " 'k']"
      ]
     },
     "execution_count": 7,
     "metadata": {},
     "output_type": "execute_result"
    }
   ],
   "source": [
    "# we create the list of top 15 categories for X2 column\n",
    "# value_counts automatically returns results in descending order so no use of using sort_values(ascending=False)\n",
    "top_15 = [x for x in data['X2'].value_counts().head(15).index]\n",
    "top_15"
   ]
  },
  {
   "cell_type": "code",
   "execution_count": 8,
   "id": "0c73ef8d-db99-4e5b-ab3b-47bfef127894",
   "metadata": {},
   "outputs": [
    {
     "data": {
      "text/plain": [
       "\"for label in top_15:\\n    data[label] = np.where(data['X2']== label,1,0)\\n\\ndata[['X2'] + top_15].head(10)\""
      ]
     },
     "execution_count": 8,
     "metadata": {},
     "output_type": "execute_result"
    }
   ],
   "source": [
    "# and now we label the categories with 0 and 1, here we did this for X2 now we need to do it for X1...X6\n",
    "'''for label in top_15:\n",
    "    data[label] = np.where(data['X2']== label,1,0)\n",
    "\n",
    "data[['X2'] + top_15].head(10)'''"
   ]
  },
  {
   "cell_type": "markdown",
   "id": "5d5a02be-2b31-4e4a-844a-f6f9e1f7e99a",
   "metadata": {},
   "source": [
    "# now we need to do it for X1...X6"
   ]
  },
  {
   "cell_type": "code",
   "execution_count": 9,
   "id": "a4b23091-4711-4cb0-87c0-a7d8040a95ad",
   "metadata": {},
   "outputs": [
    {
     "data": {
      "text/html": [
       "<div>\n",
       "<style scoped>\n",
       "    .dataframe tbody tr th:only-of-type {\n",
       "        vertical-align: middle;\n",
       "    }\n",
       "\n",
       "    .dataframe tbody tr th {\n",
       "        vertical-align: top;\n",
       "    }\n",
       "\n",
       "    .dataframe thead th {\n",
       "        text-align: right;\n",
       "    }\n",
       "</style>\n",
       "<table border=\"1\" class=\"dataframe\">\n",
       "  <thead>\n",
       "    <tr style=\"text-align: right;\">\n",
       "      <th></th>\n",
       "      <th>X1</th>\n",
       "      <th>X2</th>\n",
       "      <th>X3</th>\n",
       "      <th>X4</th>\n",
       "      <th>X5</th>\n",
       "      <th>X6</th>\n",
       "      <th>X1_aa</th>\n",
       "      <th>X1_s</th>\n",
       "      <th>X1_b</th>\n",
       "      <th>X1_l</th>\n",
       "      <th>...</th>\n",
       "      <th>X6_d</th>\n",
       "      <th>X6_i</th>\n",
       "      <th>X6_l</th>\n",
       "      <th>X6_a</th>\n",
       "      <th>X6_h</th>\n",
       "      <th>X6_k</th>\n",
       "      <th>X6_c</th>\n",
       "      <th>X6_b</th>\n",
       "      <th>X6_f</th>\n",
       "      <th>X6_e</th>\n",
       "    </tr>\n",
       "  </thead>\n",
       "  <tbody>\n",
       "    <tr>\n",
       "      <th>0</th>\n",
       "      <td>v</td>\n",
       "      <td>at</td>\n",
       "      <td>a</td>\n",
       "      <td>d</td>\n",
       "      <td>u</td>\n",
       "      <td>j</td>\n",
       "      <td>0</td>\n",
       "      <td>0</td>\n",
       "      <td>0</td>\n",
       "      <td>0</td>\n",
       "      <td>...</td>\n",
       "      <td>0</td>\n",
       "      <td>0</td>\n",
       "      <td>0</td>\n",
       "      <td>0</td>\n",
       "      <td>0</td>\n",
       "      <td>0</td>\n",
       "      <td>0</td>\n",
       "      <td>0</td>\n",
       "      <td>0</td>\n",
       "      <td>0</td>\n",
       "    </tr>\n",
       "    <tr>\n",
       "      <th>1</th>\n",
       "      <td>t</td>\n",
       "      <td>av</td>\n",
       "      <td>e</td>\n",
       "      <td>d</td>\n",
       "      <td>y</td>\n",
       "      <td>l</td>\n",
       "      <td>0</td>\n",
       "      <td>0</td>\n",
       "      <td>0</td>\n",
       "      <td>0</td>\n",
       "      <td>...</td>\n",
       "      <td>0</td>\n",
       "      <td>0</td>\n",
       "      <td>1</td>\n",
       "      <td>0</td>\n",
       "      <td>0</td>\n",
       "      <td>0</td>\n",
       "      <td>0</td>\n",
       "      <td>0</td>\n",
       "      <td>0</td>\n",
       "      <td>0</td>\n",
       "    </tr>\n",
       "    <tr>\n",
       "      <th>2</th>\n",
       "      <td>w</td>\n",
       "      <td>n</td>\n",
       "      <td>c</td>\n",
       "      <td>d</td>\n",
       "      <td>x</td>\n",
       "      <td>j</td>\n",
       "      <td>0</td>\n",
       "      <td>0</td>\n",
       "      <td>0</td>\n",
       "      <td>0</td>\n",
       "      <td>...</td>\n",
       "      <td>0</td>\n",
       "      <td>0</td>\n",
       "      <td>0</td>\n",
       "      <td>0</td>\n",
       "      <td>0</td>\n",
       "      <td>0</td>\n",
       "      <td>0</td>\n",
       "      <td>0</td>\n",
       "      <td>0</td>\n",
       "      <td>0</td>\n",
       "    </tr>\n",
       "    <tr>\n",
       "      <th>3</th>\n",
       "      <td>t</td>\n",
       "      <td>n</td>\n",
       "      <td>f</td>\n",
       "      <td>d</td>\n",
       "      <td>x</td>\n",
       "      <td>l</td>\n",
       "      <td>0</td>\n",
       "      <td>0</td>\n",
       "      <td>0</td>\n",
       "      <td>0</td>\n",
       "      <td>...</td>\n",
       "      <td>0</td>\n",
       "      <td>0</td>\n",
       "      <td>1</td>\n",
       "      <td>0</td>\n",
       "      <td>0</td>\n",
       "      <td>0</td>\n",
       "      <td>0</td>\n",
       "      <td>0</td>\n",
       "      <td>0</td>\n",
       "      <td>0</td>\n",
       "    </tr>\n",
       "    <tr>\n",
       "      <th>4</th>\n",
       "      <td>v</td>\n",
       "      <td>n</td>\n",
       "      <td>f</td>\n",
       "      <td>d</td>\n",
       "      <td>h</td>\n",
       "      <td>d</td>\n",
       "      <td>0</td>\n",
       "      <td>0</td>\n",
       "      <td>0</td>\n",
       "      <td>0</td>\n",
       "      <td>...</td>\n",
       "      <td>1</td>\n",
       "      <td>0</td>\n",
       "      <td>0</td>\n",
       "      <td>0</td>\n",
       "      <td>0</td>\n",
       "      <td>0</td>\n",
       "      <td>0</td>\n",
       "      <td>0</td>\n",
       "      <td>0</td>\n",
       "      <td>0</td>\n",
       "    </tr>\n",
       "  </tbody>\n",
       "</table>\n",
       "<p>5 rows × 74 columns</p>\n",
       "</div>"
      ],
      "text/plain": [
       "  X1  X2 X3 X4 X5 X6  X1_aa  X1_s  X1_b  X1_l  ...  X6_d  X6_i  X6_l  X6_a  \\\n",
       "0  v  at  a  d  u  j      0     0     0     0  ...     0     0     0     0   \n",
       "1  t  av  e  d  y  l      0     0     0     0  ...     0     0     1     0   \n",
       "2  w   n  c  d  x  j      0     0     0     0  ...     0     0     0     0   \n",
       "3  t   n  f  d  x  l      0     0     0     0  ...     0     0     1     0   \n",
       "4  v   n  f  d  h  d      0     0     0     0  ...     1     0     0     0   \n",
       "\n",
       "   X6_h  X6_k  X6_c  X6_b  X6_f  X6_e  \n",
       "0     0     0     0     0     0     0  \n",
       "1     0     0     0     0     0     0  \n",
       "2     0     0     0     0     0     0  \n",
       "3     0     0     0     0     0     0  \n",
       "4     0     0     0     0     0     0  \n",
       "\n",
       "[5 rows x 74 columns]"
      ]
     },
     "execution_count": 9,
     "metadata": {},
     "output_type": "execute_result"
    }
   ],
   "source": [
    "def one_hot_topX(df,v,top_X_labels):\n",
    "    for label in top_X_labels:\n",
    "        df[v+'_'+label] = np.where(data[v]==label,1,0)\n",
    "\n",
    "def topX(colname):\n",
    "    top_15 = [x for x in data[colname].value_counts().head(15).index]\n",
    "    return top_15\n",
    "\n",
    "for col in data.columns:\n",
    "    one_hot_topX(data,col,topX(col))\n",
    "\n",
    "data.head()"
   ]
  },
  {
   "cell_type": "code",
   "execution_count": 10,
   "id": "07388e1c-9049-4d11-a95e-7db83d7ec92a",
   "metadata": {},
   "outputs": [
    {
     "data": {
      "text/plain": [
       "Index(['X1', 'X2', 'X3', 'X4', 'X5', 'X6', 'X1_aa', 'X1_s', 'X1_b', 'X1_l',\n",
       "       'X1_v', 'X1_r', 'X1_i', 'X1_a', 'X1_c', 'X1_o', 'X1_w', 'X1_z', 'X1_u',\n",
       "       'X1_e', 'X1_m', 'X2_as', 'X2_ae', 'X2_ai', 'X2_m', 'X2_ak', 'X2_r',\n",
       "       'X2_n', 'X2_s', 'X2_f', 'X2_e', 'X2_aq', 'X2_ay', 'X2_a', 'X2_t',\n",
       "       'X2_k', 'X3_c', 'X3_f', 'X3_a', 'X3_d', 'X3_g', 'X3_e', 'X3_b', 'X4_d',\n",
       "       'X4_a', 'X4_b', 'X4_c', 'X5_w', 'X5_v', 'X5_q', 'X5_r', 'X5_s', 'X5_d',\n",
       "       'X5_n', 'X5_p', 'X5_m', 'X5_i', 'X5_ae', 'X5_ag', 'X5_ac', 'X5_ab',\n",
       "       'X5_l', 'X6_g', 'X6_j', 'X6_d', 'X6_i', 'X6_l', 'X6_a', 'X6_h', 'X6_k',\n",
       "       'X6_c', 'X6_b', 'X6_f', 'X6_e'],\n",
       "      dtype='object')"
      ]
     },
     "execution_count": 10,
     "metadata": {},
     "output_type": "execute_result"
    }
   ],
   "source": [
    "data.columns"
   ]
  },
  {
   "cell_type": "code",
   "execution_count": null,
   "id": "ecc82309-1b9e-43af-963a-5ce992e1a9fe",
   "metadata": {},
   "outputs": [],
   "source": []
  }
 ],
 "metadata": {
  "kernelspec": {
   "display_name": "Python 3 (ipykernel)",
   "language": "python",
   "name": "python3"
  },
  "language_info": {
   "codemirror_mode": {
    "name": "ipython",
    "version": 3
   },
   "file_extension": ".py",
   "mimetype": "text/x-python",
   "name": "python",
   "nbconvert_exporter": "python",
   "pygments_lexer": "ipython3",
   "version": "3.10.4"
  }
 },
 "nbformat": 4,
 "nbformat_minor": 5
}
